{
 "cells": [
  {
   "cell_type": "code",
   "execution_count": 5,
   "metadata": {},
   "outputs": [
    {
     "name": "stdout",
     "output_type": "stream",
     "text": [
      "La diferencia en las distancias es de: 628949330 km\n",
      "La diferencia de las distancias es de: 390577533 millas\n"
     ]
    }
   ],
   "source": [
    "distTierra=149597870\n",
    "distJupiter=778547200\n",
    "difDist=distJupiter-distTierra\n",
    "print(\"La diferencia en las distancias es de: \"+str(difDist)+\" km\")\n",
    "print(\"La diferencia de las distancias es de: \"+str(int(difDist*0.621))+\" millas\")"
   ]
  },
  {
   "cell_type": "markdown",
   "metadata": {},
   "source": [
    "## Ejercicio 2"
   ]
  },
  {
   "cell_type": "code",
   "execution_count": 6,
   "metadata": {},
   "outputs": [
    {
     "name": "stdout",
     "output_type": "stream",
     "text": [
      "La diferencia en las distancias es de: 77281000 km\n",
      "La diferencia de las distancias es de: 47991501 millas\n"
     ]
    }
   ],
   "source": [
    "distPlaneta1=input(\"Cual es la distancia del planeta 1?: \")\n",
    "distPlaneta2=input(\"Cual es la distancia del planeta 2?: \")\n",
    "distPlaneta1=int(distPlaneta1)\n",
    "distPlaneta2=int(distPlaneta2)\n",
    "distTotal= abs( distPlaneta1-distPlaneta2 )\n",
    "print(\"La diferencia en las distancias es de: \"+str(distTotal)+\" km\")\n",
    "print(\"La diferencia de las distancias es de: \"+str(int(distTotal*0.621))+\" millas\")"
   ]
  }
 ],
 "metadata": {
  "interpreter": {
   "hash": "440e3ab94799a1de57b0fff20d87bf6e8846ebc47b12b76512240fd7400694b7"
  },
  "kernelspec": {
   "display_name": "Python 3.10.2 64-bit",
   "language": "python",
   "name": "python3"
  },
  "language_info": {
   "codemirror_mode": {
    "name": "ipython",
    "version": 3
   },
   "file_extension": ".py",
   "mimetype": "text/x-python",
   "name": "python",
   "nbconvert_exporter": "python",
   "pygments_lexer": "ipython3",
   "version": "3.10.2"
  },
  "orig_nbformat": 4
 },
 "nbformat": 4,
 "nbformat_minor": 2
}
