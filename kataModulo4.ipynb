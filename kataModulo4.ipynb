{
 "cells": [
  {
   "cell_type": "code",
   "execution_count": 1,
   "metadata": {},
   "outputs": [
    {
     "name": "stdout",
     "output_type": "stream",
     "text": [
      "On average, the Moon moves 4cm away from the Earth every year\n",
      "The highest daylight temperature of the Moon is 127 C.\n",
      "On average, the Moon moves 4cm away from the Earth every year\n",
      "The highest daylight temperature of the Moon is 127 Celsius.\n"
     ]
    }
   ],
   "source": [
    "texto = \"Interesting facts about the Moon. The Moon is Earth's only satellite. There are several interesting facts about the Moon and how it affects life here on Earth. On average, the Moon moves 4cm away from the Earth every year. This yearly drift is not significant enough to cause immediate effects on Earth. The highest daylight temperature of the Moon is 127 C.\"\n",
    "#Divide el texto Añade el código necesario\n",
    "textoPorPartes=texto.split(\". \")\n",
    "#Define las palabras clave\n",
    "palabrasClave = [\"average\",\"temperature\",\"distance\"]\n",
    "#Ciclo For para recorrer la cadena\n",
    "for oracion in textoPorPartes:\n",
    "    for palabraClave in palabrasClave:\n",
    "        if palabraClave in oracion:\n",
    "            print(oracion)\n",
    "            break\n",
    "#Ciclo para cambiar C a Celsius\n",
    "for oracion in textoPorPartes:\n",
    "    for palabraClave in palabrasClave:\n",
    "        if palabraClave in oracion:\n",
    "            print(oracion.replace(' C',' Celsius'))\n",
    "            break"
   ]
  },
  {
   "cell_type": "markdown",
   "metadata": {},
   "source": [
    "# ejercicio 2\n",
    "#### a ese la verdad no le entendí"
   ]
  }
 ],
 "metadata": {
  "interpreter": {
   "hash": "440e3ab94799a1de57b0fff20d87bf6e8846ebc47b12b76512240fd7400694b7"
  },
  "kernelspec": {
   "display_name": "Python 3.10.2 64-bit",
   "language": "python",
   "name": "python3"
  },
  "language_info": {
   "codemirror_mode": {
    "name": "ipython",
    "version": 3
   },
   "file_extension": ".py",
   "mimetype": "text/x-python",
   "name": "python",
   "nbconvert_exporter": "python",
   "pygments_lexer": "ipython3",
   "version": "3.10.2"
  },
  "orig_nbformat": 4
 },
 "nbformat": 4,
 "nbformat_minor": 2
}
