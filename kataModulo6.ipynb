{
 "cells": [
  {
   "cell_type": "code",
   "execution_count": 10,
   "metadata": {},
   "outputs": [
    {
     "name": "stdout",
     "output_type": "stream",
     "text": [
      "Los planetas del sistema solar son: 8\n",
      "pero no te olvides de: Plutón\n"
     ]
    }
   ],
   "source": [
    "planets = [\"Mercurio\",\"Venus\",\"Tierra\",\"Marte\",\"Júpiter\",\"Saturno\",\"Urano\",\"Neptuno\"]\n",
    "print(\"Los planetas del sistema solar son:\", len(planets))\n",
    "planets.append(\"Plutón\")\n",
    "print(\"pero no te olvides de:\", planets[-1])"
   ]
  },
  {
   "cell_type": "markdown",
   "metadata": {},
   "source": [
    "## Ejercicio 2"
   ]
  },
  {
   "cell_type": "code",
   "execution_count": 15,
   "metadata": {},
   "outputs": [
    {
     "name": "stdout",
     "output_type": "stream",
     "text": [
      "Los planetas que están más cerca del Sol que:Mars son:\n",
      "['Mercury', 'Venus', 'Earth']\n",
      "Los planetas que están más lejos del Sol que:Mars son:\n",
      "['Jupiter', 'Saturn', 'Uranus', 'Neptune']\n"
     ]
    }
   ],
   "source": [
    "planets = ['Mercury', 'Venus', 'Earth', 'Mars', 'Jupiter', 'Saturn','Uranus','Neptune']\n",
    "userPlanet = input(\"Escribe el nombre del planeta que elegiste empezando con mayúsculas\")\n",
    "listaPlanetas=planets.index(userPlanet)\n",
    "print(\"Los planetas que están más cerca del Sol que:\"+userPlanet+\" son:\")\n",
    "print(planets[0:listaPlanetas])\n",
    "print(\"Los planetas que están más lejos del Sol que:\"+userPlanet+\" son:\")\n",
    "print(planets[listaPlanetas+1:])"
   ]
  }
 ],
 "metadata": {
  "interpreter": {
   "hash": "440e3ab94799a1de57b0fff20d87bf6e8846ebc47b12b76512240fd7400694b7"
  },
  "kernelspec": {
   "display_name": "Python 3.10.2 64-bit",
   "language": "python",
   "name": "python3"
  },
  "language_info": {
   "codemirror_mode": {
    "name": "ipython",
    "version": 3
   },
   "file_extension": ".py",
   "mimetype": "text/x-python",
   "name": "python",
   "nbconvert_exporter": "python",
   "pygments_lexer": "ipython3",
   "version": "3.10.2"
  },
  "orig_nbformat": 4
 },
 "nbformat": 4,
 "nbformat_minor": 2
}
