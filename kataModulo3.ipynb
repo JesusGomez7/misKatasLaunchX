{
 "cells": [
  {
   "cell_type": "markdown",
   "metadata": {},
   "source": [
    "# Kata Módulo 3"
   ]
  },
  {
   "cell_type": "code",
   "execution_count": 23,
   "metadata": {},
   "outputs": [
    {
     "name": "stdout",
     "output_type": "stream",
     "text": [
      "de que tamaño es el asteroide?\n",
      "Encontramos un asteroide con velocidad de: 20 km/s\n",
      "ese asteroide tiene una velocidad moderada\n",
      "YA MEJOR EMPIECEN A RESAR!\n"
     ]
    }
   ],
   "source": [
    "# Añadir el código necesario para crear una variable que guarde la velocidad del asteroide.\n",
    "# Escribe una expresión de prueba para calcular si necesita una advertencia.\n",
    "# Agregue las instrucciones que se ejecutarán si la expresión de prueba es true o false.\n",
    "print(\"cuál es la velocidad del asteroide?\")\n",
    "velAsteroide = input()\n",
    "print(\"de que tamaño es el asteroide?\")\n",
    "tamAsteroide = input()\n",
    "print(\"Encontramos un asteroide con velocidad de: \"+velAsteroide+\" km/s\")\n",
    "if int(velAsteroide)>25:\n",
    "    print(\"ALERTA! ALERTA! ALERTA! EL ASTEROIDE ES MUY VELOZ\")\n",
    "# Agrega el código para crear una variable para un asteroide que viaja a 19 km/s\n",
    "# Escribe varias expresiones de prueba para determinar si puedes ver el rayo de luz desde la tierra\n",
    "# Agrega las instrucciones que se ejecutarán si las expresiones de prueba son True o False\n",
    "elif int(velAsteroide)==19:\n",
    "    print(\"El rayo de luz debe ser visible, buscar el cielo para ver el asteroide\")\n",
    "else:\n",
    "    print(\"ese asteroide tiene una velocidad moderada\")\n",
    "# Agrega el código para crear nuevas variables para la velocidad y el tamaño del asteroide\n",
    "# Para probar el código, prueba con varias velocidades y tamaños\n",
    "# Escribe varias expresiones de prueba o combinaciones de expresiones de prueba para determinar qué mensaje se debe enviar a Tierra.\n",
    "\n",
    "if int(tamAsteroide)<25:\n",
    "    print(\"el tamaño del asteroide es de: \"+tamAsteroide+ \"m, entonces no representa algún problema\")\n",
    "elif int(tamAsteroide)>=25 and int(tamAsteroide)<1000:\n",
    "    print(\"EL ASTEROIDE DE TAMAÑO: \"+tamAsteroide+ \"m ES PELIGROSO! ALERTA! ALERTA!\")\n",
    "else:\n",
    "    print(\"YA MEJOR EMPIECEN A RESAR!\")"
   ]
  }
 ],
 "metadata": {
  "interpreter": {
   "hash": "440e3ab94799a1de57b0fff20d87bf6e8846ebc47b12b76512240fd7400694b7"
  },
  "kernelspec": {
   "display_name": "Python 3.10.2 64-bit",
   "language": "python",
   "name": "python3"
  },
  "language_info": {
   "codemirror_mode": {
    "name": "ipython",
    "version": 3
   },
   "file_extension": ".py",
   "mimetype": "text/x-python",
   "name": "python",
   "nbconvert_exporter": "python",
   "pygments_lexer": "ipython3",
   "version": "3.10.2"
  },
  "orig_nbformat": 4
 },
 "nbformat": 4,
 "nbformat_minor": 2
}
